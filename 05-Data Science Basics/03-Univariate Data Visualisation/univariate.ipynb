{
 "cells": [
  {
   "cell_type": "markdown",
   "metadata": {},
   "source": [
    "## Topic 3: Matplotlib for Univariate Data Visualization in Python"
   ]
  },
  {
   "cell_type": "markdown",
   "metadata": {},
   "source": [
    "This tutorial includes the following methods and operations:\n",
    "- Data Checking and Cleaning\n",
    "- Data Mining / Inferential Data Analysis\n",
    "- Predictive Modeling\n"
   ]
  },
  {
   "cell_type": "code",
   "execution_count": 2,
   "metadata": {},
   "outputs": [],
   "source": [
    "import os                           \n",
    "import numpy as np  # arrays and matrix math\n",
    "import pandas as pd #for tabular data\n",
    "import matplotlib.pyplot as plt# plotting\n",
    "from matplotlib.ticker import (MultipleLocator, AutoMinorLocator)#controlling of axes ticks\n",
    "plt.rc('axes', axisbelow=True)# setting axes and grids in the background for all plots\n",
    "from matplotlib.patches import Rectangle # drawing shapes on plots"
   ]
  },
  {
   "cell_type": "markdown",
   "metadata": {},
   "source": [
    "### Loading The Dataset"
   ]
  },
  {
   "cell_type": "code",
   "execution_count": 4,
   "metadata": {},
   "outputs": [
    {
     "name": "stdout",
     "output_type": "stream",
     "text": [
      "The tabular data is a <class 'pandas.core.frame.DataFrame'>\n"
     ]
    },
    {
     "data": {
      "text/html": [
       "<div>\n",
       "<style scoped>\n",
       "    .dataframe tbody tr th:only-of-type {\n",
       "        vertical-align: middle;\n",
       "    }\n",
       "\n",
       "    .dataframe tbody tr th {\n",
       "        vertical-align: top;\n",
       "    }\n",
       "\n",
       "    .dataframe thead th {\n",
       "        text-align: right;\n",
       "    }\n",
       "</style>\n",
       "<table border=\"1\" class=\"dataframe\">\n",
       "  <thead>\n",
       "    <tr style=\"text-align: right;\">\n",
       "      <th></th>\n",
       "      <th>Y</th>\n",
       "      <th>Porosity</th>\n",
       "      <th>Perm</th>\n",
       "      <th>AI</th>\n",
       "      <th>Facies</th>\n",
       "    </tr>\n",
       "  </thead>\n",
       "  <tbody>\n",
       "    <tr>\n",
       "      <th>0</th>\n",
       "      <td>10.006391</td>\n",
       "      <td>7.791849</td>\n",
       "      <td>332.802662</td>\n",
       "      <td>4114.121592</td>\n",
       "      <td>1</td>\n",
       "    </tr>\n",
       "    <tr>\n",
       "      <th>1</th>\n",
       "      <td>160.265186</td>\n",
       "      <td>16.708829</td>\n",
       "      <td>505.072608</td>\n",
       "      <td>3820.596087</td>\n",
       "      <td>1</td>\n",
       "    </tr>\n",
       "    <tr>\n",
       "      <th>2</th>\n",
       "      <td>775.834642</td>\n",
       "      <td>12.430224</td>\n",
       "      <td>404.367985</td>\n",
       "      <td>4180.556194</td>\n",
       "      <td>1</td>\n",
       "    </tr>\n",
       "  </tbody>\n",
       "</table>\n",
       "</div>"
      ],
      "text/plain": [
       "            Y   Porosity        Perm           AI  Facies\n",
       "0   10.006391   7.791849  332.802662  4114.121592       1\n",
       "1  160.265186  16.708829  505.072608  3820.596087       1\n",
       "2  775.834642  12.430224  404.367985  4180.556194       1"
      ]
     },
     "execution_count": 4,
     "metadata": {},
     "output_type": "execute_result"
    }
   ],
   "source": [
    "# reading data from github\n",
    "table = pd.read_csv('https://raw.githubusercontent.com/GeostatsGuy/GeoDataSets/master/spatial_nonlinear_MV_facies_v1.csv')\n",
    "# removing the first feature (column)\n",
    "table = table.iloc[:, 1:]\n",
    "print('The tabular data is a ' + str(type(table)))\n",
    "table.head(n=3)"
   ]
  },
  {
   "cell_type": "markdown",
   "metadata": {},
   "source": [
    "### Extracting the Feature from the Table"
   ]
  },
  {
   "cell_type": "code",
   "execution_count": 5,
   "metadata": {},
   "outputs": [
    {
     "name": "stdout",
     "output_type": "stream",
     "text": [
      "The por is a <class 'numpy.ndarray'> of shape (457,).\n"
     ]
    }
   ],
   "source": [
    "# extracting porosity feature a a 1D ndarray\n",
    "por = table['Porosity'].values\n",
    "print('The por is a ' + str(type(por)) + ' of shape ' + str(por.shape) + '.')"
   ]
  },
  {
   "cell_type": "code",
   "execution_count": null,
   "metadata": {},
   "outputs": [],
   "source": []
  }
 ],
 "metadata": {
  "kernelspec": {
   "display_name": "Python 3",
   "language": "python",
   "name": "python3"
  },
  "language_info": {
   "codemirror_mode": {
    "name": "ipython",
    "version": 3
   },
   "file_extension": ".py",
   "mimetype": "text/x-python",
   "name": "python",
   "nbconvert_exporter": "python",
   "pygments_lexer": "ipython3",
   "version": "3.11.4"
  }
 },
 "nbformat": 4,
 "nbformat_minor": 2
}
