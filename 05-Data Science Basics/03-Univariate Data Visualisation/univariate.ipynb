{
 "cells": [
  {
   "cell_type": "markdown",
   "metadata": {},
   "source": [
    "## Topic 3: Matplotlib for Univariate Data Visualization in Python"
   ]
  },
  {
   "cell_type": "markdown",
   "metadata": {},
   "source": [
    "This tutorial includes the following methods and operations:\n",
    "- Data Checking and Cleaning\n",
    "- Data Mining / Inferential Data Analysis\n",
    "- Predictive Modeling\n"
   ]
  },
  {
   "cell_type": "code",
   "execution_count": 1,
   "metadata": {},
   "outputs": [],
   "source": [
    "import os                           \n",
    "import numpy as np  # arrays and matrix math\n",
    "import pandas as pd #for tabular data\n",
    "import matplotlib.pyplot as plt# plotting\n",
    "from matplotlib.ticker import (MultipleLocator, AutoMinorLocator)#controlling of axes ticks\n",
    "plt.rc('axes', axisbelow=True)# setting axes and grids in the background for all plots\n",
    "from matplotlib.patches import Rectangle # drawing shapes on plots"
   ]
  }
 ],
 "metadata": {
  "kernelspec": {
   "display_name": "Python 3",
   "language": "python",
   "name": "python3"
  },
  "language_info": {
   "codemirror_mode": {
    "name": "ipython",
    "version": 3
   },
   "file_extension": ".py",
   "mimetype": "text/x-python",
   "name": "python",
   "nbconvert_exporter": "python",
   "pygments_lexer": "ipython3",
   "version": "3.11.4"
  }
 },
 "nbformat": 4,
 "nbformat_minor": 2
}
