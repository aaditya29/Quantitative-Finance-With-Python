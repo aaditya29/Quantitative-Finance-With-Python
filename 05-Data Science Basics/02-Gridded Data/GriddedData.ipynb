{
 "cells": [
  {
   "cell_type": "markdown",
   "metadata": {},
   "source": [
    "## Topic 2: NumPy ndarrays for Working with Gridded Data in Python\n"
   ]
  },
  {
   "cell_type": "code",
   "execution_count": 3,
   "metadata": {},
   "outputs": [],
   "source": [
    "import os  # operating system\n",
    "import numpy as np  # arrays and matrix math\n",
    "import matplotlib.pyplot as plt  # plotting\n",
    "from scipy import stats  # summary statistics"
   ]
  },
  {
   "cell_type": "markdown",
   "metadata": {},
   "source": [
    "### Loading The Dataset"
   ]
  },
  {
   "cell_type": "code",
   "execution_count": 4,
   "metadata": {},
   "outputs": [
    {
     "name": "stdout",
     "output_type": "stream",
     "text": [
      "porosity_1d_array is a <class 'numpy.ndarray'>.\n"
     ]
    }
   ],
   "source": [
    "porosity_1d_array = np.fromfile('dataset.dat')\n",
    "print('porosity_1d_array is a ' + str(type(porosity_1d_array)) + '.')"
   ]
  },
  {
   "cell_type": "markdown",
   "metadata": {},
   "source": [
    "#### Previewing The ndarrays"
   ]
  },
  {
   "cell_type": "code",
   "execution_count": 5,
   "metadata": {},
   "outputs": [
    {
     "data": {
      "text/plain": [
       "array([ 9.47058121,  9.91782937,  9.9798204 , ..., 10.76326531,\n",
       "       10.30917151, 10.86594983])"
      ]
     },
     "execution_count": 5,
     "metadata": {},
     "output_type": "execute_result"
    }
   ],
   "source": [
    "porosity_1d_array"
   ]
  },
  {
   "cell_type": "markdown",
   "metadata": {},
   "source": [
    "Notice that NumPy constrains the number of displayed elements.\n",
    "- This prevents us from attempting an impractical visualization of a large number of elements\n",
    "- We can use NumPy's set_printoptions() function to control the printing of arrays\n",
    "- We put input as precision and threshold where precision is the number of decimals, threshold is the number elements to trigger summarization."
   ]
  },
  {
   "cell_type": "code",
   "execution_count": 6,
   "metadata": {},
   "outputs": [
    {
     "data": {
      "text/plain": [
       "array([ 9.471,  9.918,  9.98 , ..., 10.763, 10.309, 10.866])"
      ]
     },
     "execution_count": 6,
     "metadata": {},
     "output_type": "execute_result"
    }
   ],
   "source": [
    "np.set_printoptions(precision = 3, threshold=100)\n",
    "porosity_1d_array"
   ]
  },
  {
   "cell_type": "markdown",
   "metadata": {},
   "source": [
    "#### Checking the Size and Dimensions of ndarrays\n",
    "Now we have an ndarray to work with. We will check the shape now:\n",
    "- The ndarray member `[my_ndarray].shape` stores the number of dimensions and the size in each dimension in a tuple (an immutable list)"
   ]
  },
  {
   "cell_type": "code",
   "execution_count": 8,
   "metadata": {},
   "outputs": [
    {
     "data": {
      "text/plain": [
       "(10000,)"
      ]
     },
     "execution_count": 8,
     "metadata": {},
     "output_type": "execute_result"
    }
   ],
   "source": [
    "porosity_1d_array.shape"
   ]
  },
  {
   "cell_type": "markdown",
   "metadata": {},
   "source": [
    "#### Reshaping The ndarray \n",
    "We use the member function `[my_ndarray].reshape()` to restore the loaded 1D array to a 2D ndarray\n",
    "\n",
    "- The inputs are the original array and the new shape as int or tuple of ints.\n",
    "- In 2D the standard Python order is left to right for each row from top to bottom\n",
    "- It is possible to set the order = 'C' for C-like index or 'F' for Fortran index"
   ]
  },
  {
   "cell_type": "code",
   "execution_count": 10,
   "metadata": {},
   "outputs": [
    {
     "name": "stdout",
     "output_type": "stream",
     "text": [
      "The porosity map has a shape (100, 100).\n",
      "Our 2D array has number of x cells = 100, and y cells = 100.\n"
     ]
    }
   ],
   "source": [
    "porosity_remapping = np.reshape(porosity_1d_array, [100, 100]) # reshaping the 1-d array to 100*100\n",
    "print('The porosity map has a shape ' + str(porosity_remapping.shape) + '.')\n",
    "ny = porosity_remapping.shape[0] #getting the array ny\n",
    "nx = porosity_remapping.shape[1] # getting the array nx\n",
    "print('Our 2D array has number of x cells = ' + str(nx) + ', and y cells = ' + str(ny) + '.')#checking the reshaping"
   ]
  },
  {
   "cell_type": "code",
   "execution_count": null,
   "metadata": {},
   "outputs": [],
   "source": []
  }
 ],
 "metadata": {
  "kernelspec": {
   "display_name": "Python 3",
   "language": "python",
   "name": "python3"
  },
  "language_info": {
   "codemirror_mode": {
    "name": "ipython",
    "version": 3
   },
   "file_extension": ".py",
   "mimetype": "text/x-python",
   "name": "python",
   "nbconvert_exporter": "python",
   "pygments_lexer": "ipython3",
   "version": "3.11.4"
  }
 },
 "nbformat": 4,
 "nbformat_minor": 2
}
