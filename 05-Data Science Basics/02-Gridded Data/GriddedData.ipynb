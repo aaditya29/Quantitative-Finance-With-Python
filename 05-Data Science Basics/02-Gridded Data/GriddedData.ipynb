{
 "cells": [
  {
   "cell_type": "markdown",
   "metadata": {},
   "source": [
    "## Topic 2: NumPy ndarrays for Working with Gridded Data in Python\n"
   ]
  },
  {
   "cell_type": "code",
   "execution_count": 1,
   "metadata": {},
   "outputs": [],
   "source": [
    "import os  # operating system\n",
    "import numpy as np  # arrays and matrix math\n",
    "import matplotlib.pyplot as plt  # plotting\n",
    "from scipy import stats  # summary statistics"
   ]
  },
  {
   "cell_type": "markdown",
   "metadata": {},
   "source": [
    "### Loading The Dataset"
   ]
  },
  {
   "cell_type": "code",
   "execution_count": 2,
   "metadata": {},
   "outputs": [
    {
     "name": "stdout",
     "output_type": "stream",
     "text": [
      "porosity_1d_array is a <class 'numpy.ndarray'>.\n"
     ]
    }
   ],
   "source": [
    "porosity_1d_array = np.fromfile('dataset.dat')\n",
    "print('porosity_1d_array is a ' + str(type(porosity_1d_array)) + '.')"
   ]
  },
  {
   "cell_type": "markdown",
   "metadata": {},
   "source": [
    "#### Previewing The ndarrays"
   ]
  },
  {
   "cell_type": "code",
   "execution_count": 3,
   "metadata": {},
   "outputs": [
    {
     "data": {
      "text/plain": [
       "array([ 9.47058121,  9.91782937,  9.9798204 , ..., 10.76326531,\n",
       "       10.30917151, 10.86594983])"
      ]
     },
     "execution_count": 3,
     "metadata": {},
     "output_type": "execute_result"
    }
   ],
   "source": [
    "porosity_1d_array"
   ]
  },
  {
   "cell_type": "markdown",
   "metadata": {},
   "source": [
    "Notice that NumPy constrains the number of displayed elements.\n",
    "- This prevents us from attempting an impractical visualization of a large number of elements\n",
    "- We can use NumPy's set_printoptions() function to control the printing of arrays\n",
    "- We put input as precision and threshold where precision is the number of decimals, threshold is the number elements to trigger summarization."
   ]
  },
  {
   "cell_type": "code",
   "execution_count": 4,
   "metadata": {},
   "outputs": [
    {
     "data": {
      "text/plain": [
       "array([ 9.471,  9.918,  9.98 , ..., 10.763, 10.309, 10.866])"
      ]
     },
     "execution_count": 4,
     "metadata": {},
     "output_type": "execute_result"
    }
   ],
   "source": [
    "np.set_printoptions(precision = 3, threshold=100)\n",
    "porosity_1d_array"
   ]
  },
  {
   "cell_type": "markdown",
   "metadata": {},
   "source": [
    "#### Checking the Size and Dimensions of ndarrays\n",
    "Now we have an ndarray to work with. We will check the shape now:\n",
    "- The ndarray member `[my_ndarray].shape` stores the number of dimensions and the size in each dimension in a tuple (an immutable list)"
   ]
  },
  {
   "cell_type": "code",
   "execution_count": 5,
   "metadata": {},
   "outputs": [
    {
     "data": {
      "text/plain": [
       "(10000,)"
      ]
     },
     "execution_count": 5,
     "metadata": {},
     "output_type": "execute_result"
    }
   ],
   "source": [
    "porosity_1d_array.shape"
   ]
  },
  {
   "cell_type": "markdown",
   "metadata": {},
   "source": [
    "#### Reshaping The ndarray \n",
    "We use the member function `[my_ndarray].reshape()` to restore the loaded 1D array to a 2D ndarray\n",
    "\n",
    "- The inputs are the original array and the new shape as int or tuple of ints.\n",
    "- In 2D the standard Python order is left to right for each row from top to bottom\n",
    "- It is possible to set the order = 'C' for C-like index or 'F' for Fortran index"
   ]
  },
  {
   "cell_type": "code",
   "execution_count": 6,
   "metadata": {},
   "outputs": [
    {
     "name": "stdout",
     "output_type": "stream",
     "text": [
      "The porosity map has a shape (100, 100).\n",
      "Our 2D array has number of x cells = 100, and y cells = 100.\n"
     ]
    }
   ],
   "source": [
    "porosity_map = np.reshape(porosity_1d_array, [100, 100]) # reshaping the 1-d array to 100*100\n",
    "print('The porosity map has a shape ' + str(porosity_map.shape) + '.')\n",
    "ny = porosity_map.shape[0] #getting the array ny\n",
    "nx = porosity_map.shape[1] # getting the array nx\n",
    "print('Our 2D array has number of x cells = ' + str(nx) + ', and y cells = ' + str(ny) + '.')#checking the reshaping"
   ]
  },
  {
   "cell_type": "markdown",
   "metadata": {},
   "source": [
    "#### Flattening The ndarrays\n",
    "There are times that we want to 'flatten' a multidimensional array to 1D ndarrays\n",
    "- There is a member function `[my_ndarray].flatten()` to do this.\n",
    "- We lose the information on endianness, but in some cases that is desirable, for example, when finding the minimum value over the ndarray or plotting a histogram."
   ]
  },
  {
   "cell_type": "code",
   "execution_count": 7,
   "metadata": {},
   "outputs": [
    {
     "name": "stdout",
     "output_type": "stream",
     "text": [
      "The flattened porosity map has a shape (10000,).\n"
     ]
    }
   ],
   "source": [
    "flatten_porosity_map = porosity_map.flatten()#flattening the 2d map\n",
    "print('The flattened porosity map has a shape ' + str(flatten_porosity_map.shape) + '.')"
   ]
  },
  {
   "cell_type": "markdown",
   "metadata": {},
   "source": [
    "#### Reading And Writing Binary Files\n",
    "We will now close the loop write out the array and read it back in, to demonstrate the ndarray output member function `[my_ndarray].tofile()`\n",
    "- We save the map as binary, read and back in\n",
    "- We compare the 2 ndarrays with the NumPy function `np.array_equal()`"
   ]
  },
  {
   "cell_type": "code",
   "execution_count": 8,
   "metadata": {},
   "outputs": [
    {
     "name": "stdout",
     "output_type": "stream",
     "text": [
      "Is the array we wrote out and read back in the same as the original array? True.\n"
     ]
    }
   ],
   "source": [
    "porosity_map.tofile(\"porosity_test.dat\")#saving 2D array to 1D File\n",
    "porosity_test = np.fromfile('porosity_test.dat')#reading 1D bindary file back to 1D arrat\n",
    "check = np.array_equal(porosity_map, np.reshape(porosity_test,[100,100])) #checking if loaded is saved or not\n",
    "print('Is the array we wrote out and read back in the same as the original array? ' + str(check) + '.')"
   ]
  },
  {
   "cell_type": "markdown",
   "metadata": {},
   "source": [
    "#### Writing ASCII Comma Delimited Files\n",
    "Now we write our map to an comma delimited ASCII file (*.csv).\n",
    "- These files are readible in any text editor and are easy to load into MS Excel."
   ]
  },
  {
   "cell_type": "code",
   "execution_count": 9,
   "metadata": {},
   "outputs": [],
   "source": [
    "# saving our 2D array to 2D comma delimited\n",
    "np.savetxt(\"porosity_map.csv\", porosity_map, delimiter=\",\")"
   ]
  },
  {
   "cell_type": "markdown",
   "metadata": {},
   "source": [
    "#### Reading ASCII Comma Delimited Files\n",
    "We can load the 2D map back in and confirm the we have the same ndarray that we started with."
   ]
  },
  {
   "cell_type": "code",
   "execution_count": 11,
   "metadata": {},
   "outputs": [
    {
     "name": "stdout",
     "output_type": "stream",
     "text": [
      "Is the array we wrote out and read back in the same as the original array? True.\n",
      "The loaded array has a shape (100, 100).\n"
     ]
    }
   ],
   "source": [
    "porosity_map_test = np.loadtxt(\"porosity_map.csv\", delimiter=\",\")#loading the csv\n",
    "test = np.array_equal(porosity_map, porosity_map_test)#checking if the arrays are the same\n",
    "print('Is the array we wrote out and read back in the same as the original array? ' + str(test) + '.')\n",
    "print('The loaded array has a shape ' + str(porosity_map_test.shape) + '.')"
   ]
  },
  {
   "cell_type": "markdown",
   "metadata": {},
   "source": [
    "### Slicing ndArrays\n",
    "Just like Pandas DataFrames we can slice NumPy ndarrays.\n",
    "- Some common notation of slicing is as follows -: all, :5 from 0 to 4, 96: from 96 to end and more advanced - 1:10:3 from 1 through 9, take every 3rd row or column.\n",
    "\n"
   ]
  },
  {
   "cell_type": "code",
   "execution_count": 12,
   "metadata": {},
   "outputs": [
    {
     "name": "stdout",
     "output_type": "stream",
     "text": [
      "The type for the slice is <class 'numpy.ndarray'>.\n",
      "The shape of the slice is (5, 5).\n"
     ]
    },
    {
     "data": {
      "text/plain": [
       "array([[ 9.471,  9.918,  9.98 ,  9.916, 10.699],\n",
       "       [ 8.676,  8.945,  9.267, 10.003, 11.012],\n",
       "       [ 9.139,  8.934,  9.878, 10.908, 10.909],\n",
       "       [ 8.335,  8.695,  9.284, 10.609, 11.524],\n",
       "       [ 9.359,  9.917, 10.049, 10.772, 11.161]])"
      ]
     },
     "execution_count": 12,
     "metadata": {},
     "output_type": "execute_result"
    }
   ],
   "source": [
    "# first slice of top left corner\n",
    "top_corner = porosity_map[:5, :5] #extracting type left corner\n",
    "print('The type for the slice is ' + str(type(top_corner)) + '.')\n",
    "print('The shape of the slice is ' + str(top_corner.shape) + '.')\n",
    "top_corner"
   ]
  },
  {
   "cell_type": "markdown",
   "metadata": {},
   "source": [
    "> Here we are extracting the first column of the top corner. This is the furthest left column of the top corner."
   ]
  },
  {
   "cell_type": "code",
   "execution_count": 13,
   "metadata": {},
   "outputs": [
    {
     "name": "stdout",
     "output_type": "stream",
     "text": [
      "The shape of the slice is (5,).\n"
     ]
    },
    {
     "data": {
      "text/plain": [
       "array([9.471, 8.676, 9.139, 8.335, 9.359])"
      ]
     },
     "execution_count": 13,
     "metadata": {},
     "output_type": "execute_result"
    }
   ],
   "source": [
    "first_column = top_corner[:, 0]#extracting the first column\n",
    "print('The shape of the slice is ' + str(first_column.shape) + '.')\n",
    "first_column"
   ]
  },
  {
   "cell_type": "markdown",
   "metadata": {},
   "source": [
    "> Here we have example where we extract the bottom 2 rows.\n",
    "\n"
   ]
  },
  {
   "cell_type": "code",
   "execution_count": 14,
   "metadata": {},
   "outputs": [
    {
     "name": "stdout",
     "output_type": "stream",
     "text": [
      "The shape of the slice is (2, 5).\n"
     ]
    },
    {
     "data": {
      "text/plain": [
       "array([[ 8.335,  8.695,  9.284, 10.609, 11.524],\n",
       "       [ 9.359,  9.917, 10.049, 10.772, 11.161]])"
      ]
     },
     "execution_count": 14,
     "metadata": {},
     "output_type": "execute_result"
    }
   ],
   "source": [
    "last_2_rows = top_corner[-2:, :]\n",
    "print('The shape of the slice is ' + str(last_2_rows.shape) + '.')\n",
    "last_2_rows"
   ]
  },
  {
   "cell_type": "code",
   "execution_count": null,
   "metadata": {},
   "outputs": [],
   "source": []
  }
 ],
 "metadata": {
  "kernelspec": {
   "display_name": "Python 3",
   "language": "python",
   "name": "python3"
  },
  "language_info": {
   "codemirror_mode": {
    "name": "ipython",
    "version": 3
   },
   "file_extension": ".py",
   "mimetype": "text/x-python",
   "name": "python",
   "nbconvert_exporter": "python",
   "pygments_lexer": "ipython3",
   "version": "3.11.4"
  }
 },
 "nbformat": 4,
 "nbformat_minor": 2
}
